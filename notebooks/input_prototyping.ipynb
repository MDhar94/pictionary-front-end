{
 "cells": [
  {
   "cell_type": "code",
   "execution_count": 1,
   "metadata": {},
   "outputs": [],
   "source": [
    "import numpy as np\n",
    "import pandas as pd\n",
    "\n",
    "import ast"
   ]
  },
  {
   "cell_type": "code",
   "execution_count": null,
   "metadata": {},
   "outputs": [],
   "source": []
  },
  {
   "cell_type": "code",
   "execution_count": null,
   "metadata": {},
   "outputs": [],
   "source": []
  },
  {
   "cell_type": "code",
   "execution_count": 4,
   "metadata": {},
   "outputs": [],
   "source": [
    "stroke = [[201,202,208,214,222,230,232,234,236,238,238,239,239,239,238,238,236,235,232,229,226,223,220,217,215,213,211,210,209,209,209,209],\n",
    "          [275,275,275,275,275,275,275,275,275,275,275,276,276,277,278,279,280,281,282,284,285,286,286,287,287,287,286,286,284,282,279,277]]\n"
   ]
  },
  {
   "cell_type": "code",
   "execution_count": 5,
   "metadata": {
    "scrolled": true
   },
   "outputs": [
    {
     "data": {
      "text/plain": [
       "[[201,\n",
       "  202,\n",
       "  208,\n",
       "  214,\n",
       "  222,\n",
       "  230,\n",
       "  232,\n",
       "  234,\n",
       "  236,\n",
       "  238,\n",
       "  238,\n",
       "  239,\n",
       "  239,\n",
       "  239,\n",
       "  238,\n",
       "  238,\n",
       "  236,\n",
       "  235,\n",
       "  232,\n",
       "  229,\n",
       "  226,\n",
       "  223,\n",
       "  220,\n",
       "  217,\n",
       "  215,\n",
       "  213,\n",
       "  211,\n",
       "  210,\n",
       "  209,\n",
       "  209,\n",
       "  209,\n",
       "  209],\n",
       " [275,\n",
       "  275,\n",
       "  275,\n",
       "  275,\n",
       "  275,\n",
       "  275,\n",
       "  275,\n",
       "  275,\n",
       "  275,\n",
       "  275,\n",
       "  275,\n",
       "  276,\n",
       "  276,\n",
       "  277,\n",
       "  278,\n",
       "  279,\n",
       "  280,\n",
       "  281,\n",
       "  282,\n",
       "  284,\n",
       "  285,\n",
       "  286,\n",
       "  286,\n",
       "  287,\n",
       "  287,\n",
       "  287,\n",
       "  286,\n",
       "  286,\n",
       "  284,\n",
       "  282,\n",
       "  279,\n",
       "  277]]"
      ]
     },
     "execution_count": 5,
     "metadata": {},
     "output_type": "execute_result"
    }
   ],
   "source": [
    "stroke"
   ]
  },
  {
   "cell_type": "code",
   "execution_count": 10,
   "metadata": {},
   "outputs": [
    {
     "data": {
      "text/plain": [
       "[[201], [275]]"
      ]
     },
     "execution_count": 10,
     "metadata": {},
     "output_type": "execute_result"
    }
   ],
   "source": [
    "stroke_resampled = []\n",
    "stroke_resampled.append([stroke[0][0]])\n",
    "stroke_resampled.append([stroke[1][0]])# We keep the first point of the stroke\n",
    "stroke_resampled\n",
    "# # We scroll through the points of the stroke and keep points which are at least step pixels apart\n",
    "# if len(stroke[0]) > 2:\n",
    "#     for i in range(1, len(stroke[0])-1):\n",
    "#         if ((stroke[0][i] - stroke_resampled[0][-1])**2 + (stroke[1][i] - stroke_resampled[1][-1])**2)**0.5 >= step:\n",
    "#             # If the next point is far enough we append it to the resampled stroke\n",
    "#             stroke_resampled[0].append(stroke[0][i])\n",
    "#             stroke_resampled[1].append(stroke[1][i])\n",
    "# # We then append the last point of the stroke no matter its distance to the previous sampled point\n",
    "# stroke_resampled[0].append(stroke[0][-1])\n",
    "# stroke_resampled[1].append(stroke[1][-1])\n",
    "# lst_strokes_resampled.append(stroke_resampled)\n"
   ]
  },
  {
   "cell_type": "code",
   "execution_count": null,
   "metadata": {},
   "outputs": [],
   "source": []
  }
 ],
 "metadata": {
  "kernelspec": {
   "display_name": "Python 3 (ipykernel)",
   "language": "python",
   "name": "python3"
  },
  "language_info": {
   "codemirror_mode": {
    "name": "ipython",
    "version": 3
   },
   "file_extension": ".py",
   "mimetype": "text/x-python",
   "name": "python",
   "nbconvert_exporter": "python",
   "pygments_lexer": "ipython3",
   "version": "3.10.6"
  }
 },
 "nbformat": 4,
 "nbformat_minor": 4
}
